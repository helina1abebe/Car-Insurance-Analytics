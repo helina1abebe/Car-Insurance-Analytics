{
 "cells": [
  {
   "cell_type": "markdown",
   "id": "217f9cff",
   "metadata": {},
   "source": [
    "# Hypothesis Testing with Insurance Data\n",
    "\n",
    "This notebook performs hypothesis testing on insurance data, including t-tests, ANOVA, and chi-squared tests. We also compute claim frequencies correctly and visualize group risk metrics with proper error bars.\n",
    "### 📊 Insurance Claims Analysis: Overview\n",
    "\n",
    "🔍 **Metrics Analyzed**\n",
    "\n",
    "* **Claim Frequency:** How often claims occur relative to total policies.\n",
    "* **Claim Severity:** Average cost per claim.\n",
    "* **Margin:** Profitability after paying claims.\n",
    "\n",
    "📂 **Data Segmentation**\n",
    "\n",
    "* By **Province**, **Zip Code**, and **Gender** for hypothesis testing.\n",
    "\n",
    "🧪 **Statistical Testing**\n",
    "\n",
    "* **Chi-squared test:** Categorical comparisons (e.g., proportions).\n",
    "* **t-test:** Numerical comparisons (e.g., Claim Severity).\n",
    "* **z-test:** Differences in proportions (e.g., Claim Frequency).\n",
    "\n",
    "📈 **Insights & Reporting**\n",
    "\n",
    "* Analyze p-values, test hypotheses, and provide actionable business insights.\n",
    "\n",
    "We ensure statistical validity by checking sample sizes before tests.\n"
   ]
  },
  {
   "cell_type": "code",
   "execution_count": null,
   "id": "26df54e5",
   "metadata": {},
   "outputs": [],
   "source": [
    "# Import required libraries\n",
    "import pandas as pd\n",
    "import numpy as np\n",
    "import seaborn as sns\n",
    "import matplotlib.pyplot as plt\n",
    "from scipy.stats import ttest_ind, chi2_contingency, f_oneway\n"
   ]
  },
  {
   "cell_type": "markdown",
   "id": "95243b85",
   "metadata": {},
   "source": [
    "# Data Preparation\n",
    "\n",
    "Load your dataset and perform any necessary preprocessing.\n",
    " `df` is your insurance dataframe with columns including `TotalClaims`, `Province`, `Gender`, and others.\n"
   ]
  },
  {
   "cell_type": "code",
   "execution_count": null,
   "id": "524b9a41",
   "metadata": {},
   "outputs": [
    {
     "name": "stderr",
     "output_type": "stream",
     "text": [
      "C:\\Users\\helin\\AppData\\Local\\Temp\\ipykernel_5784\\2046487135.py:4: DtypeWarning: Columns (32) have mixed types. Specify dtype option on import or set low_memory=False.\n",
      "  df = pd.read_csv(cleaned_data_path)\n"
     ]
    },
    {
     "name": "stdout",
     "output_type": "stream",
     "text": [
      "Index(['UnderwrittenCoverID', 'PolicyID', 'TransactionMonth',\n",
      "       'IsVATRegistered', 'Citizenship', 'LegalType', 'Title', 'Language',\n",
      "       'Bank', 'AccountType', 'MaritalStatus', 'Gender', 'Country', 'Province',\n",
      "       'PostalCode', 'MainCrestaZone', 'SubCrestaZone', 'ItemType', 'mmcode',\n",
      "       'VehicleType', 'RegistrationYear', 'make', 'Model', 'Cylinders',\n",
      "       'cubiccapacity', 'kilowatts', 'bodytype', 'NumberOfDoors',\n",
      "       'VehicleIntroDate', 'CustomValueEstimate', 'AlarmImmobiliser',\n",
      "       'TrackingDevice', 'CapitalOutstanding', 'NewVehicle', 'WrittenOff',\n",
      "       'Rebuilt', 'Converted', 'SumInsured', 'TermFrequency',\n",
      "       'CalculatedPremiumPerTerm', 'ExcessSelected', 'CoverCategory',\n",
      "       'CoverType', 'CoverGroup', 'Section', 'Product', 'StatutoryClass',\n",
      "       'StatutoryRiskType', 'TotalPremium', 'TotalClaims', 'Margin'],\n",
      "      dtype='object')\n",
      "   UnderwrittenCoverID  PolicyID TransactionMonth  IsVATRegistered  \\\n",
      "0               145249     12827       2015-03-01             True   \n",
      "1               145249     12827       2015-05-01             True   \n",
      "2               145249     12827       2015-07-01             True   \n",
      "3               145255     12827       2015-05-01             True   \n",
      "4               145255     12827       2015-07-01             True   \n",
      "\n",
      "  Citizenship          LegalType Title Language                 Bank  \\\n",
      "0              Close Corporation    Mr  English  First National Bank   \n",
      "1              Close Corporation    Mr  English  First National Bank   \n",
      "2              Close Corporation    Mr  English  First National Bank   \n",
      "3              Close Corporation    Mr  English  First National Bank   \n",
      "4              Close Corporation    Mr  English  First National Bank   \n",
      "\n",
      "       AccountType  ... CoverCategory   CoverType            CoverGroup  \\\n",
      "0  Current account  ...    Windscreen  Windscreen  Comprehensive - Taxi   \n",
      "1  Current account  ...    Windscreen  Windscreen  Comprehensive - Taxi   \n",
      "2  Current account  ...    Windscreen  Windscreen  Comprehensive - Taxi   \n",
      "3  Current account  ...    Own damage  Own Damage  Comprehensive - Taxi   \n",
      "4  Current account  ...    Own damage  Own Damage  Comprehensive - Taxi   \n",
      "\n",
      "               Section                          Product StatutoryClass  \\\n",
      "0  Motor Comprehensive  Mobility Metered Taxis: Monthly     Commercial   \n",
      "1  Motor Comprehensive  Mobility Metered Taxis: Monthly     Commercial   \n",
      "2  Motor Comprehensive  Mobility Metered Taxis: Monthly     Commercial   \n",
      "3  Motor Comprehensive  Mobility Metered Taxis: Monthly     Commercial   \n",
      "4  Motor Comprehensive  Mobility Metered Taxis: Monthly     Commercial   \n",
      "\n",
      "  StatutoryRiskType TotalPremium  TotalClaims      Margin  \n",
      "0     IFRS Constant    21.929825          0.0   21.929825  \n",
      "1     IFRS Constant    21.929825          0.0   21.929825  \n",
      "2     IFRS Constant     0.000000          0.0    0.000000  \n",
      "3     IFRS Constant   512.848070          0.0  512.848070  \n",
      "4     IFRS Constant     0.000000          0.0    0.000000  \n",
      "\n",
      "[5 rows x 51 columns]\n"
     ]
    }
   ],
   "source": [
    "#  Load and preprocess the dataset\n",
    "# Path to the cleaned dataset\n",
    "cleaned_data_path = \"../data/processed/cleaned_dataset.csv\"\n",
    "df = pd.read_csv(cleaned_data_path)\n",
    "\n",
    "print(df.columns)\n",
    "# Display the first few rows of the dataset\n",
    "print(df.head())\n",
    "\n",
    "# Create a binary claim indicator column for categorical testing\n",
    "df['HasClaim'] = (df['TotalClaims'] > 0).astype(int)\n"
   ]
  },
  {
   "cell_type": "markdown",
   "id": "88940d63",
   "metadata": {},
   "source": [
    "# Compute Claim Frequency\n",
    "\n",
    "Calculate claim frequency as the proportion of records with claims greater than zero within each group.\n"
   ]
  },
  {
   "cell_type": "code",
   "execution_count": 64,
   "id": "64317374",
   "metadata": {},
   "outputs": [
    {
     "name": "stdout",
     "output_type": "stream",
     "text": [
      "Claim frequency by Province:\n",
      "Province\n",
      "Eastern Cape     0.001648\n",
      "Free State       0.001358\n",
      "Gauteng          0.003357\n",
      "KwaZulu-Natal    0.002849\n",
      "Limpopo          0.002698\n",
      "Mpumalanga       0.002428\n",
      "North West       0.002436\n",
      "Northern Cape    0.001254\n",
      "Western Cape     0.002167\n",
      "dtype: float64\n",
      "Claim Severity by Province:\n",
      " Province\n",
      "Eastern Cape     44.719328\n",
      "Free State       43.822975\n",
      "Gauteng          74.665493\n",
      "KwaZulu-Natal    84.356519\n",
      "Limpopo          40.927553\n",
      "Mpumalanga       38.800039\n",
      "North West       41.317426\n",
      "Northern Cape    14.026726\n",
      "Western Cape     60.871216\n",
      "Name: TotalClaims, dtype: float64\n"
     ]
    },
    {
     "name": "stderr",
     "output_type": "stream",
     "text": [
      "c:\\Users\\helin\\Desktop\\CarInsuranceAnalytics\\notebooks\\../src\\statistical_testing.py:11: FutureWarning: DataFrameGroupBy.apply operated on the grouping columns. This behavior is deprecated, and in a future version of pandas the grouping columns will be excluded from the operation. Either pass `include_groups=False` to exclude the groupings or explicitly select the grouping columns after groupby to silence this warning.\n",
      "  return df.groupby(group_col).apply(lambda x: (x['TotalClaims'] > 0).mean())\n"
     ]
    }
   ],
   "source": [
    "# Cell 3: Claim frequency calculation by group\n",
    "import sys\n",
    "sys.path.append('../src')\n",
    "from statistical_testing import compute_claim_frequency, compute_claim_severity, perform_t_test, visualize_risk_by_group\n",
    "claim_freq_by_province = compute_claim_frequency(df, 'Province')\n",
    "print(\"Claim frequency by Province:\")\n",
    "print(claim_freq_by_province)\n",
    "# Compute claim severity by Province\n",
    "claim_sev = compute_claim_severity(df, 'Province')\n",
    "print(\"Claim Severity by Province:\\n\", claim_sev)\n",
    "\n"
   ]
  },
  {
   "cell_type": "markdown",
   "id": "3d12fff2",
   "metadata": {},
   "source": [
    "# Sample Size Check Function\n",
    "\n",
    "Before performing hypothesis tests, check if each group has an adequate sample size (e.g., at least 30).\n"
   ]
  },
  {
   "cell_type": "code",
   "execution_count": 55,
   "id": "2bbc92cf",
   "metadata": {},
   "outputs": [],
   "source": [
    "# Cell 4: Sample size checker\n",
    "def check_sample_sizes(groups, min_size=30):\n",
    "    for i, group in enumerate(groups):\n",
    "        if len(group) < min_size:\n",
    "            print(f\"Warning: Group {i} has only {len(group)} samples, which may be too small for reliable inference.\")\n"
   ]
  },
  {
   "cell_type": "markdown",
   "id": "f4d79227",
   "metadata": {},
   "source": [
    "# T-Test Function for Two Groups\n",
    "\n",
    "Perform independent two-sample t-tests between two groups and print the result.\n",
    "Warnings appear if sample sizes are small.\n"
   ]
  },
  {
   "cell_type": "code",
   "execution_count": 65,
   "id": "29bd41e6",
   "metadata": {},
   "outputs": [
    {
     "name": "stdout",
     "output_type": "stream",
     "text": [
      "Comparing top 2 provinces: Gauteng vs Western Cape\n",
      "T-test for Total Claims between Gauteng and Western Cape: t-stat = 1.8645, p-value = 0.0623\n"
     ]
    },
    {
     "data": {
      "image/png": "[encoded data removed]",
      "text/plain": [
       "<Figure size 640x480 with 1 Axes>"
      ]
     },
     "metadata": {},
     "output_type": "display_data"
    }
   ],
   "source": [
    "# Cell 5: T-test implementation\n",
    "def perform_t_test(group_a, group_b, metric_name):\n",
    "    if len(group_a) < 30 or len(group_b) < 30:\n",
    "        print(f\"Warning: Sample size for t-test groups less than 30. Results may be unreliable.\")\n",
    "    stat, p_value = ttest_ind(group_a, group_b, equal_var=False)\n",
    "    print(f\"T-test for {metric_name}: t-stat = {stat:.4f}, p-value = {p_value:.4f}\")\n",
    "    return p_value\n",
    "\n",
    "# Get top 2 provinces by count\n",
    "top_provinces = df['Province'].value_counts().nlargest(2).index.tolist()\n",
    "\n",
    "# Extract TotalClaims for each province\n",
    "group_a = df[df['Province'] == top_provinces[0]]['TotalClaims'].dropna()\n",
    "group_b = df[df['Province'] == top_provinces[1]]['TotalClaims'].dropna()\n",
    "\n",
    "# Run t-test\n",
    "print(f\"Comparing top 2 provinces: {top_provinces[0]} vs {top_provinces[1]}\")\n",
    "perform_t_test(group_a, group_b, metric_name=f\"Total Claims between {top_provinces[0]} and {top_provinces[1]}\")\n",
    "\n",
    "\n",
    "# Visualize\n",
    "visualize_risk_by_group(df, 'Province', 'TotalClaims', \"Total Claims by Province\")\n"
   ]
  },
  {
   "cell_type": "markdown",
   "id": "c13205f2",
   "metadata": {},
   "source": [
    "# ANOVA for More than Two Groups\n",
    "\n",
    "If you want to compare more than two groups (e.g., all provinces), perform one-way ANOVA.\n",
    "Sample size warnings apply here as well.\n"
   ]
  },
  {
   "cell_type": "code",
   "execution_count": 45,
   "id": "bf503eb1",
   "metadata": {},
   "outputs": [
    {
     "name": "stdout",
     "output_type": "stream",
     "text": [
      "ANOVA for Total Claims by Province: F-stat = 5.8672, p-value = 0.0000\n"
     ]
    },
    {
     "data": {
      "text/plain": [
       "np.float64(1.5767736477382983e-07)"
      ]
     },
     "execution_count": 45,
     "metadata": {},
     "output_type": "execute_result"
    }
   ],
   "source": [
    "# Cell 6: ANOVA implementation\n",
    "def perform_anova(*groups, metric_name=\"Metric\"):\n",
    "    if any(len(g) < 30 for g in groups):\n",
    "        print(\"Warning: At least one group has fewer than 30 samples. ANOVA results may be unreliable.\")\n",
    "    stat, p_value = f_oneway(*groups)\n",
    "    print(f\"ANOVA for {metric_name}: F-stat = {stat:.4f}, p-value = {p_value:.4f}\")\n",
    "    return p_value\n",
    "\n",
    "# Prepare groups for ANOVA\n",
    "province_groups = df['Province'].dropna().unique()\n",
    "groups = [df[df['Province'] == prov]['TotalClaims'].dropna() for prov in province_groups]\n",
    "\n",
    "perform_anova(*groups, metric_name=\"Total Claims by Province\")\n"
   ]
  },
  {
   "cell_type": "code",
   "execution_count": 67,
   "id": "394da0a2",
   "metadata": {},
   "outputs": [
    {
     "name": "stdout",
     "output_type": "stream",
     "text": [
      "\n",
      "### H₀: Margin Differences Across Postal Codes ###\n",
      "Average Margin by Postal Code:\n",
      " PostalCode\n",
      "1        -6.468455\n",
      "2        -0.687882\n",
      "4       113.947737\n",
      "5      -145.725189\n",
      "6        30.980985\n",
      "           ...    \n",
      "9781    -84.946280\n",
      "9830    131.760895\n",
      "9868    116.042377\n",
      "9869     43.193631\n",
      "9870     80.469292\n",
      "Name: Margin, Length: 888, dtype: float64\n",
      "T-test for Margin: t-stat = -0.4371, p-value = 0.6630\n"
     ]
    },
    {
     "data": {
      "image/png": "[encoded data removed]",
      "text/plain": [
       "<Figure size 640x480 with 1 Axes>"
      ]
     },
     "metadata": {},
     "output_type": "display_data"
    },
    {
     "name": "stdout",
     "output_type": "stream",
     "text": [
      "\n",
      "### H₀: Risk Differences Between Women and Men ###\n"
     ]
    },
    {
     "name": "stderr",
     "output_type": "stream",
     "text": [
      "c:\\Users\\helin\\Desktop\\CarInsuranceAnalytics\\notebooks\\../src\\statistical_testing.py:11: FutureWarning: DataFrameGroupBy.apply operated on the grouping columns. This behavior is deprecated, and in a future version of pandas the grouping columns will be excluded from the operation. Either pass `include_groups=False` to exclude the groupings or explicitly select the grouping columns after groupby to silence this warning.\n",
      "  return df.groupby(group_col).apply(lambda x: (x['TotalClaims'] > 0).mean())\n"
     ]
    },
    {
     "name": "stdout",
     "output_type": "stream",
     "text": [
      "Claim Frequency by Gender:\n",
      " Gender\n",
      "Female           0.002073\n",
      "Male             0.002208\n",
      "Not specified    0.002833\n",
      "Unknown          0.001468\n",
      "dtype: float64\n",
      "Claim Severity by Gender:\n",
      " Gender\n",
      "Female           37.046055\n",
      "Male             32.804959\n",
      "Not specified    66.670450\n",
      "Unknown          53.113789\n",
      "Name: TotalClaims, dtype: float64\n",
      "T-test for Total Claims: t-stat = 4.2577, p-value = 0.0000\n"
     ]
    },
    {
     "data": {
      "image/png": "[encoded data removed]",
      "text/plain": [
       "<Figure size 640x480 with 1 Axes>"
      ]
     },
     "metadata": {},
     "output_type": "display_data"
    }
   ],
   "source": [
    "\n",
    "# Add a margin column\n",
    "df['Margin'] = df['TotalPremium'] - df['TotalClaims']\n",
    "\n",
    "# ### 4.2. H₀: There are no significant margin differences between zip codes\n",
    "print(\"\\n### H₀: Margin Differences Across Postal Codes ###\")\n",
    "# Compute margins by PostalCode\n",
    "margins_by_postalcode = df.groupby('PostalCode')['Margin'].mean()\n",
    "print(\"Average Margin by Postal Code:\\n\", margins_by_postalcode)\n",
    "\n",
    "# Perform t-test between two example postal codes\n",
    "postalcode_groups = df['PostalCode'].unique()\n",
    "group_a = df[df['PostalCode'] == postalcode_groups[0]]['Margin'].dropna()\n",
    "group_b = df[df['PostalCode'] == postalcode_groups[1]]['Margin'].dropna()\n",
    "perform_t_test(group_a, group_b, \"Margin\")\n",
    "\n",
    "# Visualize\n",
    "visualize_risk_by_group(df, 'PostalCode', 'Margin', \"Margin\")\n",
    "\n",
    "# ### 4.3. H₀: There are no significant risk differences between Women and Men\n",
    "print(\"\\n### H₀: Risk Differences Between Women and Men ###\")\n",
    "# Compute metrics by gender\n",
    "claim_frequency_by_gender = compute_claim_frequency(df, 'Gender')\n",
    "claim_severity_by_gender = compute_claim_severity(df, 'Gender')\n",
    "print(\"Claim Frequency by Gender:\\n\", claim_frequency_by_gender)\n",
    "print(\"Claim Severity by Gender:\\n\", claim_severity_by_gender)\n",
    "\n",
    "# Perform t-test\n",
    "group_b = df[df['Gender'] == 'Male']['TotalClaims'].dropna()\n",
    "perform_t_test(group_a, group_b, \"Total Claims\")\n",
    "\n",
    "# Visualize\n",
    "visualize_risk_by_group(df, 'Gender', 'TotalClaims', \"Total Claims\")\n"
   ]
  },
  {
   "cell_type": "markdown",
   "id": "c49fd157",
   "metadata": {},
   "source": [
    "Claim Frequency by Province:\n",
    "All provinces show frequency = 1.0. This suggests every record in the dataset has a non-null claim. This seems suspicious — maybe TotalClaims is never missing? Or frequency as you computed it is actually measuring non-null presence rather than actual claim occurrence.\n",
    "\n",
    "Claim Severity by Province:\n",
    "Means vary by province, e.g., KwaZulu-Natal ~84, Northern Cape ~14, showing some risk differentiation.\n",
    "\n",
    "T-test between two provinces on TotalClaims:\n",
    "p-value ~0.21 (not significant) — no strong evidence of claim amount difference between the two selected provinces.\n",
    "\n",
    "Margin differences by PostalCode:\n",
    "Very large variance in average margin, some postal codes have very negative or very positive margins. T-test p-value 0.66 (no significant difference between chosen groups).\n",
    "\n",
    "Gender-based testing:\n",
    "Frequencies are 1.0 for all groups (again, questionable measure). Severity differs somewhat. T-test p-value 0.77 — no significant difference."
   ]
  },
  {
   "cell_type": "markdown",
   "id": "33bd7fa6",
   "metadata": {},
   "source": [
    "# Chi-Squared Test for Categorical Variables\n",
    "\n",
    "Use the chi-squared test to check for association between categorical variables, e.g., Gender and HasClaim.\n"
   ]
  },
  {
   "cell_type": "code",
   "execution_count": 46,
   "id": "ba29f251",
   "metadata": {},
   "outputs": [
    {
     "name": "stdout",
     "output_type": "stream",
     "text": [
      "Chi-squared test between Gender and HasClaim: chi2 = 13.0669, p-value = 0.0045\n"
     ]
    },
    {
     "data": {
      "text/plain": [
       "np.float64(0.0044940440727193574)"
      ]
     },
     "execution_count": 46,
     "metadata": {},
     "output_type": "execute_result"
    }
   ],
   "source": [
    "# Cell 7: Chi-squared test implementation\n",
    "def perform_chi_squared_test(df, group_col, metric_col):\n",
    "    contingency_table = pd.crosstab(df[group_col], df[metric_col])\n",
    "    chi2, p_value, _, _ = chi2_contingency(contingency_table)\n",
    "    print(f\"Chi-squared test between {group_col} and {metric_col}: chi2 = {chi2:.4f}, p-value = {p_value:.4f}\")\n",
    "    return p_value\n",
    "\n",
    "perform_chi_squared_test(df, 'Gender', 'HasClaim')\n"
   ]
  },
  {
   "cell_type": "code",
   "execution_count": 68,
   "id": "ddf6eedc",
   "metadata": {},
   "outputs": [
    {
     "name": "stdout",
     "output_type": "stream",
     "text": [
      "Z-test for Claim Frequency by Province: z-stat = 7.5148, p-value = 0.0000\n"
     ]
    },
    {
     "data": {
      "text/plain": [
       "np.float64(5.698253877301043e-14)"
      ]
     },
     "execution_count": 68,
     "metadata": {},
     "output_type": "execute_result"
    }
   ],
   "source": [
    "from statsmodels.stats.proportion import proportions_ztest\n",
    "\n",
    "def perform_z_test(count_a, nobs_a, count_b, nobs_b, metric_name=\"Metric\"):\n",
    "    \"\"\"\n",
    "    Perform a Z-test for proportions.\n",
    "    \"\"\"\n",
    "    stat, p_value = proportions_ztest([count_a, count_b], [nobs_a, nobs_b])\n",
    "    print(f\"Z-test for {metric_name}: z-stat = {stat:.4f}, p-value = {p_value:.4f}\")\n",
    "    return p_value\n",
    "\n",
    "# Example: Compare Claim Frequency between two provinces\n",
    "province_groups = df['Province'].value_counts().index[:2]\n",
    "group_a = df[df['Province'] == province_groups[0]]\n",
    "group_b = df[df['Province'] == province_groups[1]]\n",
    "\n",
    "# Calculate Claim Frequency\n",
    "count_a, nobs_a = group_a['HasClaim'].sum(), len(group_a)\n",
    "count_b, nobs_b = group_b['HasClaim'].sum(), len(group_b)\n",
    "\n",
    "perform_z_test(count_a, nobs_a, count_b, nobs_b, metric_name=\"Claim Frequency by Province\")\n"
   ]
  },
  {
   "cell_type": "markdown",
   "id": "34cada8c",
   "metadata": {},
   "source": [
    "# Logging Hypothesis Decisions\n",
    "Each test should clearly log whether the null hypothesis is rejected based on the p-value.\n",
    "\n",
    "## Code for Logging\n"
   ]
  },
  {
   "cell_type": "code",
   "execution_count": 69,
   "id": "173c9d91",
   "metadata": {},
   "outputs": [
    {
     "name": "stdout",
     "output_type": "stream",
     "text": [
      "Z-test for Claim Frequency by Province: z-stat = 7.5148, p-value = 0.0000\n",
      "Reject the null hypothesis: There are no risk differences between provinces.\n"
     ]
    }
   ],
   "source": [
    "def log_hypothesis_result(p_value, alpha=0.05, hypothesis=\"\"):\n",
    "    if p_value < alpha:\n",
    "        print(f\"Reject the null hypothesis: {hypothesis}\")\n",
    "    else:\n",
    "        print(f\"Fail to reject the null hypothesis: {hypothesis}\")\n",
    "\n",
    "# Example: Log decision for Z-test\n",
    "p_value = perform_z_test(count_a, nobs_a, count_b, nobs_b, \"Claim Frequency by Province\")\n",
    "log_hypothesis_result(p_value, hypothesis=\"There are no risk differences between provinces.\")\n"
   ]
  },
  {
   "cell_type": "code",
   "execution_count": 70,
   "id": "6b24de08",
   "metadata": {},
   "outputs": [
    {
     "data": {
      "text/plain": [
       "'../outputs/reports/hypothesis_testing.md'"
      ]
     },
     "execution_count": 70,
     "metadata": {},
     "output_type": "execute_result"
    }
   ],
   "source": [
    "#check business recommendations on\n",
    "('../outputs/reports/hypothesis_testing.md')"
   ]
  },
  {
   "cell_type": "markdown",
   "id": "c1a74d00",
   "metadata": {},
   "source": [
    "## ✅  Recommendations\n",
    "\n",
    "1. **Provincial Premium Adjustments**  \n",
    "   - Increase premiums in Gauteng to account for higher risk.  \n",
    "   - Investigate and address costlier claims in KwaZulu-Natal.  \n",
    "\n",
    "2. **Gender-Specific Strategies**  \n",
    "   - Develop gender-targeted risk reduction campaigns.  \n",
    "   - Review claim severity patterns to ensure fairness in underwriting.  \n",
    "\n",
    "3. **Localized Marketing and Risk Mitigation**  \n",
    "   - Focus efforts in high-claim-frequency areas (e.g., Gauteng, KwaZulu-Natal).  \n",
    "   - Address postal codes with extreme margins to improve profitability.  \n",
    "\n",
    "4. **Further Research**  \n",
    "   - Dive deeper into high-variance regions and customer segments.  \n",
    "   - Examine outliers in postal code margins and claim severity for hidden trends."
   ]
  },
  {
   "cell_type": "markdown",
   "id": "9238f98e",
   "metadata": {},
   "source": []
  }
 ],
 "metadata": {
  "kernelspec": {
   "display_name": ".venv",
   "language": "python",
   "name": "python3"
  },
  "language_info": {
   "codemirror_mode": {
    "name": "ipython",
    "version": 3
   },
   "file_extension": ".py",
   "mimetype": "text/x-python",
   "name": "python",
   "nbconvert_exporter": "python",
   "pygments_lexer": "ipython3",
   "version": "3.11.0"
  }
 },
 "nbformat": 4,
 "nbformat_minor": 5
}
