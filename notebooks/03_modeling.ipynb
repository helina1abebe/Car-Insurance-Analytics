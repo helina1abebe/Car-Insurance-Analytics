{
 "cells": [
  {
   "cell_type": "code",
   "execution_count": 7,
   "id": "e5155888",
   "metadata": {},
   "outputs": [
    {
     "name": "stderr",
     "output_type": "stream",
     "text": [
      "C:\\Users\\helin\\AppData\\Local\\Temp\\ipykernel_24300\\2080166256.py:5: DtypeWarning: Columns (32) have mixed types. Specify dtype option on import or set low_memory=False.\n",
      "  df = pd.read_csv(cleaned_data_path)\n"
     ]
    },
    {
     "name": "stdout",
     "output_type": "stream",
     "text": [
      "Dataset loaded with 999805 rows and 50 columns.\n"
     ]
    },
    {
     "data": {
      "text/html": [
       "<div>\n",
       "<style scoped>\n",
       "    .dataframe tbody tr th:only-of-type {\n",
       "        vertical-align: middle;\n",
       "    }\n",
       "\n",
       "    .dataframe tbody tr th {\n",
       "        vertical-align: top;\n",
       "    }\n",
       "\n",
       "    .dataframe thead th {\n",
       "        text-align: right;\n",
       "    }\n",
       "</style>\n",
       "<table border=\"1\" class=\"dataframe\">\n",
       "  <thead>\n",
       "    <tr style=\"text-align: right;\">\n",
       "      <th></th>\n",
       "      <th>UnderwrittenCoverID</th>\n",
       "      <th>PolicyID</th>\n",
       "      <th>TransactionMonth</th>\n",
       "      <th>IsVATRegistered</th>\n",
       "      <th>Citizenship</th>\n",
       "      <th>LegalType</th>\n",
       "      <th>Title</th>\n",
       "      <th>Language</th>\n",
       "      <th>Bank</th>\n",
       "      <th>AccountType</th>\n",
       "      <th>...</th>\n",
       "      <th>ExcessSelected</th>\n",
       "      <th>CoverCategory</th>\n",
       "      <th>CoverType</th>\n",
       "      <th>CoverGroup</th>\n",
       "      <th>Section</th>\n",
       "      <th>Product</th>\n",
       "      <th>StatutoryClass</th>\n",
       "      <th>StatutoryRiskType</th>\n",
       "      <th>TotalPremium</th>\n",
       "      <th>TotalClaims</th>\n",
       "    </tr>\n",
       "  </thead>\n",
       "  <tbody>\n",
       "    <tr>\n",
       "      <th>0</th>\n",
       "      <td>145249</td>\n",
       "      <td>12827</td>\n",
       "      <td>2015-03-01</td>\n",
       "      <td>True</td>\n",
       "      <td></td>\n",
       "      <td>Close Corporation</td>\n",
       "      <td>Mr</td>\n",
       "      <td>English</td>\n",
       "      <td>First National Bank</td>\n",
       "      <td>Current account</td>\n",
       "      <td>...</td>\n",
       "      <td>Mobility - Windscreen</td>\n",
       "      <td>Windscreen</td>\n",
       "      <td>Windscreen</td>\n",
       "      <td>Comprehensive - Taxi</td>\n",
       "      <td>Motor Comprehensive</td>\n",
       "      <td>Mobility Metered Taxis: Monthly</td>\n",
       "      <td>Commercial</td>\n",
       "      <td>IFRS Constant</td>\n",
       "      <td>21.929825</td>\n",
       "      <td>0.0</td>\n",
       "    </tr>\n",
       "    <tr>\n",
       "      <th>1</th>\n",
       "      <td>145249</td>\n",
       "      <td>12827</td>\n",
       "      <td>2015-05-01</td>\n",
       "      <td>True</td>\n",
       "      <td></td>\n",
       "      <td>Close Corporation</td>\n",
       "      <td>Mr</td>\n",
       "      <td>English</td>\n",
       "      <td>First National Bank</td>\n",
       "      <td>Current account</td>\n",
       "      <td>...</td>\n",
       "      <td>Mobility - Windscreen</td>\n",
       "      <td>Windscreen</td>\n",
       "      <td>Windscreen</td>\n",
       "      <td>Comprehensive - Taxi</td>\n",
       "      <td>Motor Comprehensive</td>\n",
       "      <td>Mobility Metered Taxis: Monthly</td>\n",
       "      <td>Commercial</td>\n",
       "      <td>IFRS Constant</td>\n",
       "      <td>21.929825</td>\n",
       "      <td>0.0</td>\n",
       "    </tr>\n",
       "    <tr>\n",
       "      <th>2</th>\n",
       "      <td>145249</td>\n",
       "      <td>12827</td>\n",
       "      <td>2015-07-01</td>\n",
       "      <td>True</td>\n",
       "      <td></td>\n",
       "      <td>Close Corporation</td>\n",
       "      <td>Mr</td>\n",
       "      <td>English</td>\n",
       "      <td>First National Bank</td>\n",
       "      <td>Current account</td>\n",
       "      <td>...</td>\n",
       "      <td>Mobility - Windscreen</td>\n",
       "      <td>Windscreen</td>\n",
       "      <td>Windscreen</td>\n",
       "      <td>Comprehensive - Taxi</td>\n",
       "      <td>Motor Comprehensive</td>\n",
       "      <td>Mobility Metered Taxis: Monthly</td>\n",
       "      <td>Commercial</td>\n",
       "      <td>IFRS Constant</td>\n",
       "      <td>0.000000</td>\n",
       "      <td>0.0</td>\n",
       "    </tr>\n",
       "    <tr>\n",
       "      <th>3</th>\n",
       "      <td>145255</td>\n",
       "      <td>12827</td>\n",
       "      <td>2015-05-01</td>\n",
       "      <td>True</td>\n",
       "      <td></td>\n",
       "      <td>Close Corporation</td>\n",
       "      <td>Mr</td>\n",
       "      <td>English</td>\n",
       "      <td>First National Bank</td>\n",
       "      <td>Current account</td>\n",
       "      <td>...</td>\n",
       "      <td>Mobility - Metered Taxis - R2000</td>\n",
       "      <td>Own damage</td>\n",
       "      <td>Own Damage</td>\n",
       "      <td>Comprehensive - Taxi</td>\n",
       "      <td>Motor Comprehensive</td>\n",
       "      <td>Mobility Metered Taxis: Monthly</td>\n",
       "      <td>Commercial</td>\n",
       "      <td>IFRS Constant</td>\n",
       "      <td>512.848070</td>\n",
       "      <td>0.0</td>\n",
       "    </tr>\n",
       "    <tr>\n",
       "      <th>4</th>\n",
       "      <td>145255</td>\n",
       "      <td>12827</td>\n",
       "      <td>2015-07-01</td>\n",
       "      <td>True</td>\n",
       "      <td></td>\n",
       "      <td>Close Corporation</td>\n",
       "      <td>Mr</td>\n",
       "      <td>English</td>\n",
       "      <td>First National Bank</td>\n",
       "      <td>Current account</td>\n",
       "      <td>...</td>\n",
       "      <td>Mobility - Metered Taxis - R2000</td>\n",
       "      <td>Own damage</td>\n",
       "      <td>Own Damage</td>\n",
       "      <td>Comprehensive - Taxi</td>\n",
       "      <td>Motor Comprehensive</td>\n",
       "      <td>Mobility Metered Taxis: Monthly</td>\n",
       "      <td>Commercial</td>\n",
       "      <td>IFRS Constant</td>\n",
       "      <td>0.000000</td>\n",
       "      <td>0.0</td>\n",
       "    </tr>\n",
       "  </tbody>\n",
       "</table>\n",
       "<p>5 rows × 50 columns</p>\n",
       "</div>"
      ],
      "text/plain": [
       "   UnderwrittenCoverID  PolicyID TransactionMonth  IsVATRegistered  \\\n",
       "0               145249     12827       2015-03-01             True   \n",
       "1               145249     12827       2015-05-01             True   \n",
       "2               145249     12827       2015-07-01             True   \n",
       "3               145255     12827       2015-05-01             True   \n",
       "4               145255     12827       2015-07-01             True   \n",
       "\n",
       "  Citizenship          LegalType Title Language                 Bank  \\\n",
       "0              Close Corporation    Mr  English  First National Bank   \n",
       "1              Close Corporation    Mr  English  First National Bank   \n",
       "2              Close Corporation    Mr  English  First National Bank   \n",
       "3              Close Corporation    Mr  English  First National Bank   \n",
       "4              Close Corporation    Mr  English  First National Bank   \n",
       "\n",
       "       AccountType  ...                    ExcessSelected CoverCategory  \\\n",
       "0  Current account  ...             Mobility - Windscreen    Windscreen   \n",
       "1  Current account  ...             Mobility - Windscreen    Windscreen   \n",
       "2  Current account  ...             Mobility - Windscreen    Windscreen   \n",
       "3  Current account  ...  Mobility - Metered Taxis - R2000    Own damage   \n",
       "4  Current account  ...  Mobility - Metered Taxis - R2000    Own damage   \n",
       "\n",
       "    CoverType            CoverGroup              Section  \\\n",
       "0  Windscreen  Comprehensive - Taxi  Motor Comprehensive   \n",
       "1  Windscreen  Comprehensive - Taxi  Motor Comprehensive   \n",
       "2  Windscreen  Comprehensive - Taxi  Motor Comprehensive   \n",
       "3  Own Damage  Comprehensive - Taxi  Motor Comprehensive   \n",
       "4  Own Damage  Comprehensive - Taxi  Motor Comprehensive   \n",
       "\n",
       "                           Product StatutoryClass StatutoryRiskType  \\\n",
       "0  Mobility Metered Taxis: Monthly     Commercial     IFRS Constant   \n",
       "1  Mobility Metered Taxis: Monthly     Commercial     IFRS Constant   \n",
       "2  Mobility Metered Taxis: Monthly     Commercial     IFRS Constant   \n",
       "3  Mobility Metered Taxis: Monthly     Commercial     IFRS Constant   \n",
       "4  Mobility Metered Taxis: Monthly     Commercial     IFRS Constant   \n",
       "\n",
       "   TotalPremium TotalClaims  \n",
       "0     21.929825         0.0  \n",
       "1     21.929825         0.0  \n",
       "2      0.000000         0.0  \n",
       "3    512.848070         0.0  \n",
       "4      0.000000         0.0  \n",
       "\n",
       "[5 rows x 50 columns]"
      ]
     },
     "execution_count": 7,
     "metadata": {},
     "output_type": "execute_result"
    }
   ],
   "source": [
    "# Load the cleaned dataset\n",
    "import pandas as pd\n",
    "\n",
    "cleaned_data_path = \"../data/processed/cleaned_dataset.csv\"\n",
    "df = pd.read_csv(cleaned_data_path)\n",
    "\n",
    "print(f\"Dataset loaded with {df.shape[0]} rows and {df.shape[1]} columns.\")\n",
    "df.head()\n"
   ]
  },
  {
   "cell_type": "markdown",
   "id": "562ed9e7",
   "metadata": {},
   "source": [
    "## Inspect Missing Data\n",
    "\n",
    "Check for missing values in the dataset to decide on imputation or removal strategies.\n"
   ]
  },
  {
   "cell_type": "code",
   "execution_count": 8,
   "id": "1dafd6f4",
   "metadata": {},
   "outputs": [
    {
     "name": "stdout",
     "output_type": "stream",
     "text": [
      "                    Missing Count  Missing %\n",
      "WrittenOff                 641638  64.176314\n",
      "Converted                  641638  64.176314\n",
      "Rebuilt                    641638  64.176314\n",
      "NewVehicle                 153050  15.307985\n",
      "mmcode                        550   0.055011\n",
      "VehicleType                   550   0.055011\n",
      "make                          550   0.055011\n",
      "kilowatts                     550   0.055011\n",
      "cubiccapacity                 550   0.055011\n",
      "Cylinders                     550   0.055011\n",
      "Model                         550   0.055011\n",
      "NumberOfDoors                 550   0.055011\n",
      "VehicleIntroDate              550   0.055011\n",
      "bodytype                      550   0.055011\n",
      "CapitalOutstanding              2   0.000200\n"
     ]
    }
   ],
   "source": [
    "# Check missing values count and percentage\n",
    "missing_counts = df.isnull().sum()\n",
    "missing_percent = (missing_counts / len(df)) * 100\n",
    "missing_summary = pd.DataFrame({\"Missing Count\": missing_counts, \"Missing %\": missing_percent})\n",
    "\n",
    "print(missing_summary[missing_summary[\"Missing Count\"] > 0].sort_values(by=\"Missing %\", ascending=False))\n"
   ]
  },
  {
   "cell_type": "markdown",
   "id": "a32f6f50",
   "metadata": {},
   "source": [
    "## Handling Missing Data\n",
    "\n",
    "Based on the missing data analysis, decide to either impute or remove missing values.\n",
    "\n",
    "- For columns with low missing %, consider imputation.\n",
    "- For columns with large missing %, consider removal or further investigation.\n"
   ]
  },
  {
   "cell_type": "code",
   "execution_count": 9,
   "id": "2805b050",
   "metadata": {},
   "outputs": [
    {
     "name": "stdout",
     "output_type": "stream",
     "text": [
      "UnderwrittenCoverID         0\n",
      "PolicyID                    0\n",
      "TransactionMonth            0\n",
      "IsVATRegistered             0\n",
      "Citizenship                 0\n",
      "LegalType                   0\n",
      "Title                       0\n",
      "Language                    0\n",
      "Bank                        0\n",
      "AccountType                 0\n",
      "MaritalStatus               0\n",
      "Gender                      0\n",
      "Country                     0\n",
      "Province                    0\n",
      "PostalCode                  0\n",
      "MainCrestaZone              0\n",
      "SubCrestaZone               0\n",
      "ItemType                    0\n",
      "mmcode                      0\n",
      "VehicleType                 0\n",
      "RegistrationYear            0\n",
      "make                        0\n",
      "Model                       0\n",
      "Cylinders                   0\n",
      "cubiccapacity               0\n",
      "kilowatts                   0\n",
      "bodytype                    0\n",
      "NumberOfDoors               0\n",
      "VehicleIntroDate            0\n",
      "CustomValueEstimate         0\n",
      "AlarmImmobiliser            0\n",
      "TrackingDevice              0\n",
      "CapitalOutstanding          0\n",
      "NewVehicle                  0\n",
      "SumInsured                  0\n",
      "TermFrequency               0\n",
      "CalculatedPremiumPerTerm    0\n",
      "ExcessSelected              0\n",
      "CoverCategory               0\n",
      "CoverType                   0\n",
      "CoverGroup                  0\n",
      "Section                     0\n",
      "Product                     0\n",
      "StatutoryClass              0\n",
      "StatutoryRiskType           0\n",
      "TotalPremium                0\n",
      "TotalClaims                 0\n",
      "dtype: int64\n"
     ]
    }
   ],
   "source": [
    "# Cell 5: Handling Missing Data (fix for CapitalOutstanding conversion)\n",
    "\n",
    "# Drop columns with large missing percentage\n",
    "cols_to_drop = ['WrittenOff', 'Converted', 'Rebuilt']\n",
    "df = df.drop(columns=cols_to_drop)\n",
    "\n",
    "# Drop rows with missing 'NewVehicle'\n",
    "df = df.dropna(subset=['NewVehicle'])\n",
    "\n",
    "# Impute missing values in columns with low missing percentage\n",
    "low_missing_cols = ['mmcode', 'VehicleType', 'make', 'kilowatts', 'cubiccapacity', \n",
    "                    'Cylinders', 'Model', 'NumberOfDoors', 'VehicleIntroDate', 'bodytype']\n",
    "\n",
    "for col in low_missing_cols:\n",
    "    if df[col].dtype == 'object':\n",
    "        df[col] = df[col].fillna(df[col].mode()[0])\n",
    "    else:\n",
    "        df[col] = df[col].fillna(df[col].median())\n",
    "\n",
    "# Fix CapitalOutstanding: convert string with commas to float\n",
    "df['CapitalOutstanding'] = df['CapitalOutstanding'].astype(str).str.replace(',', '.')\n",
    "df['CapitalOutstanding'] = pd.to_numeric(df['CapitalOutstanding'], errors='coerce')\n",
    "\n",
    "# Now fill missing values with median\n",
    "df['CapitalOutstanding'] = df['CapitalOutstanding'].fillna(df['CapitalOutstanding'].median())\n",
    "\n",
    "# Check remaining missing data\n",
    "print(df.isnull().sum())\n"
   ]
  },
  {
   "cell_type": "markdown",
   "id": "545d77e0",
   "metadata": {},
   "source": [
    "## Feature Engineering\n",
    "\n",
    "Create new features relevant for predicting claims and premiums, such as:\n",
    "\n",
    "- Policy duration (if start and end dates exist)\n",
    "- Claim history count or flags\n",
    "- Vehicle age buckets\n",
    "- Interaction terms, if applicable\n"
   ]
  },
  {
   "cell_type": "markdown",
   "id": "1697dbd3",
   "metadata": {},
   "source": [
    "calculate the VehicleAge using the RegistrationYear column and the current year."
   ]
  },
  {
   "cell_type": "code",
   "execution_count": 12,
   "id": "b1a85894",
   "metadata": {},
   "outputs": [
    {
     "name": "stdout",
     "output_type": "stream",
     "text": [
      "   VehicleAge VehicleAgeBucket\n",
      "0          21              15+\n",
      "1          21              15+\n",
      "2          21              15+\n",
      "3          21              15+\n",
      "4          21              15+\n"
     ]
    }
   ],
   "source": [
    "import datetime\n",
    "\n",
    "# Calculate the current year\n",
    "current_year = datetime.datetime.now().year\n",
    "\n",
    "# Create the VehicleAge column\n",
    "df['VehicleAge'] = current_year - df['RegistrationYear']\n",
    "\n",
    "# Create the VehicleAgeBucket column\n",
    "df['VehicleAgeBucket'] = pd.cut(\n",
    "    df['VehicleAge'], \n",
    "    bins=[0, 5, 10, 15, 100], \n",
    "    labels=['0-5', '6-10', '11-15', '15+']\n",
    ")\n",
    "\n",
    "# Verify the new columns\n",
    "print(df[['VehicleAge', 'VehicleAgeBucket']].head())\n"
   ]
  },
  {
   "cell_type": "code",
   "execution_count": 13,
   "id": "c2f177a0",
   "metadata": {},
   "outputs": [],
   "source": [
    "# Example: Create a binary claim flag\n",
    "df['HasClaim'] = (df['TotalClaims'] > 0).astype(int)\n",
    "\n",
    "# Example: Vehicle age buckets\n",
    "df['VehicleAgeBucket'] = pd.cut(df['VehicleAge'], bins=[0, 5, 10, 15, 100], labels=['0-5', '6-10', '11-15', '15+'])\n",
    "\n",
    "# Example: Policy duration in days (assuming start_date and end_date columns exist)\n",
    "if 'PolicyStartDate' in df.columns and 'PolicyEndDate' in df.columns:\n",
    "    df['PolicyDuration'] = (pd.to_datetime(df['PolicyEndDate']) - pd.to_datetime(df['PolicyStartDate'])).dt.days\n"
   ]
  },
  {
   "cell_type": "code",
   "execution_count": 11,
   "id": "655aa366",
   "metadata": {},
   "outputs": [
    {
     "name": "stdout",
     "output_type": "stream",
     "text": [
      "Index(['UnderwrittenCoverID', 'PolicyID', 'TransactionMonth',\n",
      "       'IsVATRegistered', 'Citizenship', 'LegalType', 'Title', 'Language',\n",
      "       'Bank', 'AccountType', 'MaritalStatus', 'Gender', 'Country', 'Province',\n",
      "       'PostalCode', 'MainCrestaZone', 'SubCrestaZone', 'ItemType', 'mmcode',\n",
      "       'VehicleType', 'RegistrationYear', 'make', 'Model', 'Cylinders',\n",
      "       'cubiccapacity', 'kilowatts', 'bodytype', 'NumberOfDoors',\n",
      "       'VehicleIntroDate', 'CustomValueEstimate', 'AlarmImmobiliser',\n",
      "       'TrackingDevice', 'CapitalOutstanding', 'NewVehicle', 'SumInsured',\n",
      "       'TermFrequency', 'CalculatedPremiumPerTerm', 'ExcessSelected',\n",
      "       'CoverCategory', 'CoverType', 'CoverGroup', 'Section', 'Product',\n",
      "       'StatutoryClass', 'StatutoryRiskType', 'TotalPremium', 'TotalClaims',\n",
      "       'HasClaim'],\n",
      "      dtype='object')\n"
     ]
    }
   ],
   "source": [
    "print(df.columns)\n"
   ]
  },
  {
   "cell_type": "markdown",
   "id": "7661dc81",
   "metadata": {},
   "source": [
    "## Encoding Categorical Variables\n",
    "\n",
    "Convert categorical columns to numerical format using one-hot encoding or label encoding as appropriate.\n"
   ]
  },
  {
   "cell_type": "code",
   "execution_count": 15,
   "id": "2304fabd",
   "metadata": {},
   "outputs": [
    {
     "name": "stdout",
     "output_type": "stream",
     "text": [
      "Data shape after encoding: (846755, 798)\n"
     ]
    }
   ],
   "source": [
    "from sklearn.preprocessing import LabelEncoder\n",
    "\n",
    "# For simplicity, use one-hot encoding for all categorical columns with relatively few categories\n",
    "categorical_cols = df.select_dtypes(include=['object', 'category']).columns.tolist()\n",
    "\n",
    "# Drop columns not needed for modeling or identifiers if necessary\n",
    "columns_to_drop = ['PolicyID', 'CustomerID'] if 'PolicyID' in df.columns and 'CustomerID' in df.columns else []\n",
    "\n",
    "df_model = df.drop(columns=columns_to_drop)\n",
    "\n",
    "# One-hot encode categorical features\n",
    "df_model = pd.get_dummies(df_model, columns=categorical_cols, drop_first=True)\n",
    "\n",
    "print(f\"Data shape after encoding: {df_model.shape}\")\n"
   ]
  },
  {
   "cell_type": "markdown",
   "id": "df7155ea",
   "metadata": {},
   "source": [
    "## Train-Test Split\n",
    "\n",
    "Split the dataset into training and testing sets, e.g., 80% training and 20% testing.\n"
   ]
  },
  {
   "cell_type": "code",
   "execution_count": 30,
   "id": "98a9b1c4",
   "metadata": {},
   "outputs": [
    {
     "name": "stdout",
     "output_type": "stream",
     "text": [
      "Training set size: 1960 samples\n",
      "Test set size: 490 samples\n"
     ]
    }
   ],
   "source": [
    "from sklearn.model_selection import train_test_split\n",
    "\n",
    "# Define features (X) and target (y) for claim severity prediction (only where claims exist)\n",
    "df_claims = df_model[df_model['TotalClaims'] > 0]\n",
    "\n",
    "X = df_claims.drop(columns=['TotalClaims'])\n",
    "y = df_claims['TotalClaims']\n",
    "\n",
    "X_train, X_test, y_train, y_test = train_test_split(X, y, test_size=0.2, random_state=42)\n",
    "\n",
    "print(f\"Training set size: {X_train.shape[0]} samples\")\n",
    "print(f\"Test set size: {X_test.shape[0]} samples\")\n"
   ]
  },
  {
   "cell_type": "markdown",
   "id": "e3ad3bc6",
   "metadata": {},
   "source": [
    "## Model Building - Claim Severity Prediction"
   ]
  },
  {
   "cell_type": "markdown",
   "id": "c6a7a861",
   "metadata": {},
   "source": [
    "## Subset Data to Policies with Claims\n",
    "\n",
    "We will only include data where `TotalClaims > 0` for claim severity prediction.\n"
   ]
  },
  {
   "cell_type": "code",
   "execution_count": 22,
   "id": "1a4d4ac9",
   "metadata": {},
   "outputs": [
    {
     "name": "stdout",
     "output_type": "stream",
     "text": [
      "Dataset for modeling: 2450 rows and 797 features.\n"
     ]
    }
   ],
   "source": [
    "# Subset the dataset to policies with claims\n",
    "df_claims = df_model[df_model['TotalClaims'] > 0]\n",
    "\n",
    "X = df_claims.drop(columns=['TotalClaims'])\n",
    "y = df_claims['TotalClaims']\n",
    "\n",
    "print(f\"Dataset for modeling: {X.shape[0]} rows and {X.shape[1]} features.\")\n"
   ]
  },
  {
   "cell_type": "markdown",
   "id": "7de60705",
   "metadata": {},
   "source": [
    "## Baseline Linear Regression Model\n",
    "\n",
    "Train a simple Linear Regression model to establish a baseline.\n"
   ]
  },
  {
   "cell_type": "code",
   "execution_count": 19,
   "id": "01d90161",
   "metadata": {},
   "outputs": [
    {
     "name": "stdout",
     "output_type": "stream",
     "text": [
      "1.7.0\n"
     ]
    }
   ],
   "source": [
    "import sklearn\n",
    "print(sklearn.__version__)\n"
   ]
  },
  {
   "cell_type": "code",
   "execution_count": 23,
   "id": "295bff25",
   "metadata": {},
   "outputs": [
    {
     "name": "stdout",
     "output_type": "stream",
     "text": [
      "Linear Regression MSE: 1540828464.1423\n",
      "Linear Regression RMSE: 39253.3879\n",
      "Linear Regression R-squared: 0.0387\n"
     ]
    }
   ],
   "source": [
    "from sklearn.linear_model import LinearRegression\n",
    "from sklearn.metrics import mean_squared_error, r2_score\n",
    "\n",
    "# Train Linear Regression model\n",
    "lr_model = LinearRegression()\n",
    "lr_model.fit(X_train, y_train)\n",
    "\n",
    "# Predict on the test set\n",
    "y_pred_lr = lr_model.predict(X_test)\n",
    "\n",
    "# Calculate metrics\n",
    "# Calculate Mean Squared Error\n",
    "mse_lr = mean_squared_error(y_test, y_pred_lr)\n",
    "# Calculate RMSE manually\n",
    "rmse_lr = mse_lr ** 0.5\n",
    "# Calculate R-squared\n",
    "r2_lr = r2_score(y_test, y_pred_lr)\n",
    "\n",
    "# Print results\n",
    "print(f\"Linear Regression MSE: {mse_lr:.4f}\")\n",
    "print(f\"Linear Regression RMSE: {rmse_lr:.4f}\")\n",
    "print(f\"Linear Regression R-squared: {r2_lr:.4f}\")\n"
   ]
  },
  {
   "cell_type": "markdown",
   "id": "62a9ad31",
   "metadata": {},
   "source": [
    "## Decision Tree Regressor\n",
    "\n",
    "Train a Decision Tree model for claim severity prediction.\n"
   ]
  },
  {
   "cell_type": "code",
   "execution_count": 25,
   "id": "bc587ae7",
   "metadata": {},
   "outputs": [
    {
     "name": "stdout",
     "output_type": "stream",
     "text": [
      "Decision Tree MSE: 1874898839.5797\n",
      "Decision Tree RMSE: 43300.1021\n",
      "Decision Tree R-squared: -0.1697\n"
     ]
    }
   ],
   "source": [
    "from sklearn.tree import DecisionTreeRegressor\n",
    "from sklearn.metrics import mean_squared_error, r2_score\n",
    "\n",
    "# Train Decision Tree model\n",
    "dt_model = DecisionTreeRegressor(random_state=42)\n",
    "dt_model.fit(X_train, y_train)\n",
    "\n",
    "# Predict on the test set\n",
    "y_pred_dt = dt_model.predict(X_test)\n",
    "\n",
    "# Calculate metrics\n",
    "# Calculate Mean Squared Error\n",
    "mse_dt = mean_squared_error(y_test, y_pred_dt)\n",
    "# Calculate RMSE manually\n",
    "rmse_dt = mse_dt ** 0.5\n",
    "# Calculate R-squared\n",
    "r2_dt = r2_score(y_test, y_pred_dt)\n",
    "\n",
    "# Print results\n",
    "print(f\"Decision Tree MSE: {mse_dt:.4f}\")\n",
    "print(f\"Decision Tree RMSE: {rmse_dt:.4f}\")\n",
    "print(f\"Decision Tree R-squared: {r2_dt:.4f}\")\n"
   ]
  },
  {
   "cell_type": "markdown",
   "id": "efc1e679",
   "metadata": {},
   "source": [
    "## Random Forest Regressor\n",
    "\n",
    "Train a Random Forest model for claim severity prediction.\n"
   ]
  },
  {
   "cell_type": "code",
   "execution_count": 26,
   "id": "906380b0",
   "metadata": {},
   "outputs": [
    {
     "name": "stdout",
     "output_type": "stream",
     "text": [
      "Random Forest MSE: 1252690948.0629\n",
      "Random Forest RMSE: 35393.3744\n",
      "Random Forest R-squared: 0.2185\n"
     ]
    }
   ],
   "source": [
    "from sklearn.ensemble import RandomForestRegressor\n",
    "from sklearn.metrics import mean_squared_error, r2_score\n",
    "\n",
    "# Train Random Forest model\n",
    "rf_model = RandomForestRegressor(random_state=42)\n",
    "rf_model.fit(X_train, y_train)\n",
    "\n",
    "# Predict on the test set\n",
    "y_pred_rf = rf_model.predict(X_test)\n",
    "\n",
    "# Calculate metrics\n",
    "# Mean Squared Error\n",
    "mse_rf = mean_squared_error(y_test, y_pred_rf)\n",
    "# Root Mean Squared Error (RMSE)\n",
    "rmse_rf = mse_rf ** 0.5\n",
    "# R-squared\n",
    "r2_rf = r2_score(y_test, y_pred_rf)\n",
    "\n",
    "# Print results\n",
    "print(f\"Random Forest MSE: {mse_rf:.4f}\")\n",
    "print(f\"Random Forest RMSE: {rmse_rf:.4f}\")\n",
    "print(f\"Random Forest R-squared: {r2_rf:.4f}\")\n"
   ]
  },
  {
   "cell_type": "markdown",
   "id": "522fd59c",
   "metadata": {},
   "source": [
    "## XGBoost Regressor\n",
    "\n",
    "Train an XGBoost model for claim severity prediction.\n"
   ]
  },
  {
   "cell_type": "code",
   "execution_count": 33,
   "id": "7373740d",
   "metadata": {},
   "outputs": [
    {
     "name": "stdout",
     "output_type": "stream",
     "text": [
      "XGBoost RMSE: 39650.7471\n",
      "XGBoost R-squared: 0.0191\n"
     ]
    }
   ],
   "source": [
    "from xgboost import XGBRegressor\n",
    "from sklearn.metrics import mean_squared_error, r2_score\n",
    "from math import sqrt\n",
    "\n",
    "# Train XGBoost model\n",
    "xgb_model = XGBRegressor(random_state=42)\n",
    "xgb_model.fit(X_train, y_train)\n",
    "\n",
    "# Predict and evaluate\n",
    "y_pred_xgb = xgb_model.predict(X_test)\n",
    "\n",
    "# Manually compute RMSE to avoid 'squared' param issue\n",
    "mse_xgb = mean_squared_error(y_test, y_pred_xgb)\n",
    "rmse_xgb = sqrt(mse_xgb)\n",
    "r2_xgb = r2_score(y_test, y_pred_xgb)\n",
    "\n",
    "print(f\"XGBoost RMSE: {rmse_xgb:.4f}\")\n",
    "print(f\"XGBoost R-squared: {r2_xgb:.4f}\")\n"
   ]
  },
  {
   "cell_type": "markdown",
   "id": "2ab44821",
   "metadata": {},
   "source": [
    "## Hyperparameter Tuning: Random Forest Regressor\n",
    "\n",
    "Use `GridSearchCV` to find the best combination of hyperparameters for the Random Forest Regressor.\n"
   ]
  },
  {
   "cell_type": "code",
   "execution_count": 32,
   "id": "a9ce91bd",
   "metadata": {},
   "outputs": [
    {
     "name": "stdout",
     "output_type": "stream",
     "text": [
      "Fitting 3 folds for each of 108 candidates, totalling 324 fits\n",
      "Best Parameters for Random Forest: {'max_depth': 10, 'min_samples_leaf': 2, 'min_samples_split': 10, 'n_estimators': 100}\n",
      "Tuned Random Forest RMSE: 34070.6446\n",
      "Tuned Random Forest R-squared: 0.2758\n"
     ]
    }
   ],
   "source": [
    "from sklearn.ensemble import RandomForestRegressor\n",
    "from sklearn.model_selection import GridSearchCV\n",
    "from sklearn.metrics import mean_squared_error, r2_score\n",
    "from math import sqrt\n",
    "\n",
    "# Define hyperparameter grid\n",
    "rf_param_grid = {\n",
    "    'n_estimators': [50, 100, 200],\n",
    "    'max_depth': [None, 10, 20, 30],\n",
    "    'min_samples_split': [2, 5, 10],\n",
    "    'min_samples_leaf': [1, 2, 4]\n",
    "}\n",
    "\n",
    "# Perform Grid Search\n",
    "rf_grid_search = GridSearchCV(\n",
    "    estimator=RandomForestRegressor(random_state=42),\n",
    "    param_grid=rf_param_grid,\n",
    "    cv=3,\n",
    "    scoring='neg_root_mean_squared_error',\n",
    "    verbose=2,\n",
    "    n_jobs=-1\n",
    ")\n",
    "\n",
    "# Fit the model\n",
    "rf_grid_search.fit(X_train, y_train)\n",
    "\n",
    "# Retrieve the best parameters and best model\n",
    "rf_best_params = rf_grid_search.best_params_\n",
    "rf_best_model = rf_grid_search.best_estimator_\n",
    "\n",
    "print(f\"Best Parameters for Random Forest: {rf_best_params}\")\n",
    "\n",
    "# Evaluate the tuned model\n",
    "y_pred_rf_tuned = rf_best_model.predict(X_test)\n",
    "\n",
    "# Compute metrics manually to avoid compatibility issues\n",
    "mse_rf_tuned = mean_squared_error(y_test, y_pred_rf_tuned)\n",
    "rmse_rf_tuned = sqrt(mse_rf_tuned)  # Manually compute RMSE\n",
    "r2_rf_tuned = r2_score(y_test, y_pred_rf_tuned)\n",
    "\n",
    "# Print evaluation metrics\n",
    "print(f\"Tuned Random Forest RMSE: {rmse_rf_tuned:.4f}\")\n",
    "print(f\"Tuned Random Forest R-squared: {r2_rf_tuned:.4f}\")\n"
   ]
  },
  {
   "cell_type": "markdown",
   "id": "7fe3eb7a",
   "metadata": {},
   "source": [
    "## Hyperparameter Tuning: XGBoost Regressor\n",
    "\n",
    "Use `GridSearchCV` to find the best combination of hyperparameters for the XGBoost Regressor.\n"
   ]
  },
  {
   "cell_type": "code",
   "execution_count": 35,
   "id": "518a389e",
   "metadata": {},
   "outputs": [
    {
     "name": "stdout",
     "output_type": "stream",
     "text": [
      "Fitting 3 folds for each of 108 candidates, totalling 324 fits\n",
      "Best Parameters for XGBoost: {'colsample_bytree': 0.8, 'learning_rate': 0.01, 'max_depth': 3, 'n_estimators': 200, 'subsample': 1}\n",
      "Tuned XGBoost RMSE: 34350.4680\n",
      "Tuned XGBoost R-squared: 0.2638\n"
     ]
    }
   ],
   "source": [
    "from sklearn.model_selection import GridSearchCV\n",
    "from xgboost import XGBRegressor\n",
    "from sklearn.metrics import mean_squared_error, r2_score\n",
    "from math import sqrt\n",
    "\n",
    "# Define hyperparameter grid\n",
    "xgb_param_grid = {\n",
    "    'n_estimators': [50, 100, 200],\n",
    "    'max_depth': [3, 5, 7],\n",
    "    'learning_rate': [0.01, 0.1, 0.2],\n",
    "    'subsample': [0.8, 1],\n",
    "    'colsample_bytree': [0.8, 1]\n",
    "}\n",
    "\n",
    "# Perform Grid Search\n",
    "xgb_grid_search = GridSearchCV(\n",
    "    estimator=XGBRegressor(random_state=42),\n",
    "    param_grid=xgb_param_grid,\n",
    "    cv=3,\n",
    "    scoring='neg_root_mean_squared_error',\n",
    "    verbose=2,\n",
    "    n_jobs=-1\n",
    ")\n",
    "\n",
    "xgb_grid_search.fit(X_train, y_train)\n",
    "\n",
    "# Best parameters and model\n",
    "xgb_best_params = xgb_grid_search.best_params_\n",
    "xgb_best_model = xgb_grid_search.best_estimator_\n",
    "\n",
    "print(f\"Best Parameters for XGBoost: {xgb_best_params}\")\n",
    "\n",
    "# Evaluate tuned model\n",
    "y_pred_xgb_tuned = xgb_best_model.predict(X_test)\n",
    "mse_xgb_tuned = mean_squared_error(y_test, y_pred_xgb_tuned)\n",
    "rmse_xgb_tuned = sqrt(mse_xgb_tuned)\n",
    "r2_xgb_tuned = r2_score(y_test, y_pred_xgb_tuned)\n",
    "\n",
    "print(f\"Tuned XGBoost RMSE: {rmse_xgb_tuned:.4f}\")\n",
    "print(f\"Tuned XGBoost R-squared: {r2_xgb_tuned:.4f}\")\n"
   ]
  },
  {
   "cell_type": "code",
   "execution_count": null,
   "id": "30679957",
   "metadata": {},
   "outputs": [],
   "source": []
  }
 ],
 "metadata": {
  "kernelspec": {
   "display_name": ".venv",
   "language": "python",
   "name": "python3"
  },
  "language_info": {
   "codemirror_mode": {
    "name": "ipython",
    "version": 3
   },
   "file_extension": ".py",
   "mimetype": "text/x-python",
   "name": "python",
   "nbconvert_exporter": "python",
   "pygments_lexer": "ipython3",
   "version": "3.11.0"
  }
 },
 "nbformat": 4,
 "nbformat_minor": 5
}
